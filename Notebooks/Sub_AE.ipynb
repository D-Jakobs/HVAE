{
 "cells": [
  {
   "cell_type": "code",
   "execution_count": 1,
   "metadata": {},
   "outputs": [],
   "source": [
    "fun1 = \"C * A * A\"\n",
    "fun2 = \"C * A ^2\"\n"
   ]
  },
  {
   "cell_type": "code",
   "execution_count": 4,
   "metadata": {},
   "outputs": [
    {
     "data": {
      "text/plain": [
       "4"
      ]
     },
     "execution_count": 4,
     "metadata": {},
     "output_type": "execute_result"
    }
   ],
   "source": [
    "test = \"1*2*2\"\n",
    "eval(test)"
   ]
  },
  {
   "cell_type": "code",
   "execution_count": null,
   "metadata": {},
   "outputs": [],
   "source": [
    "# need to do string editing to evaluate it properly  \n"
   ]
  },
  {
   "cell_type": "markdown",
   "metadata": {},
   "source": [
    "So what are the open questions?\n",
    "1. Quickly/ efficently evaluating string functions \n",
    "2. What kind of ANN architecture should be used for the en/decoder?\n",
    "    - Encoder seems pretty simple, decoder im not so sure"
   ]
  },
  {
   "cell_type": "markdown",
   "metadata": {},
   "source": [
    "So for training the encoder, this is pretty simple, we evaluate the original function and determine the value. We then give the encoder the numeric space representation of the function in A', the values of the variables/parameters we gave it and the final value of the function, which it then encodes to A'' \n",
    "\n",
    "For the decoder. I want it to be able to tell me based on an input function and the value it gave me (represented in the latent space A'') what are other functions which can evlaute to the same value (given similar inputs? no this is not quite what I am looking for.... becuase y=x^2 and y=x can be good approximations of each other in a very small range. (so I mean given simialar variable inputs but not similar parameter inputs ))\n",
    ". The training can occur that we randomly select a function that, given similar variable inputs, has the same final funcation evaluation. And then we want the decoder to give me the A' representation. So the loss is calculated by the decoded values from A'' and the A' representation of a function randomly selected from a list of functions which evaluate a similar final value to the input equation encoded into the A'' space, but excluding the actual original equation.  \n",
    "\n",
    "\n",
    "\n",
    "It sounds like I somehow have to bring probability into the decoder beacuse there should be a lot of different possibilities to be decoded and I want him to select one. "
   ]
  },
  {
   "cell_type": "markdown",
   "metadata": {},
   "source": []
  }
 ],
 "metadata": {
  "kernelspec": {
   "display_name": "HVAE",
   "language": "python",
   "name": "python3"
  },
  "language_info": {
   "codemirror_mode": {
    "name": "ipython",
    "version": 3
   },
   "file_extension": ".py",
   "mimetype": "text/x-python",
   "name": "python",
   "nbconvert_exporter": "python",
   "pygments_lexer": "ipython3",
   "version": "3.10.12"
  },
  "orig_nbformat": 4
 },
 "nbformat": 4,
 "nbformat_minor": 2
}
