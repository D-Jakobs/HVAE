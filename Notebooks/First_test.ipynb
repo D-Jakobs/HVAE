{
 "cells": [
  {
   "cell_type": "markdown",
   "metadata": {},
   "source": [
    "# Ignore All of this and scroll a little bit to the next Markdown block\n",
    " \n"
   ]
  },
  {
   "cell_type": "code",
   "execution_count": null,
   "metadata": {},
   "outputs": [],
   "source": [
    "# Manage user inputs and create necessary \n",
    "so = symbol_library.generate_symbol_library(n_vars, symbols, has_constant=True)\n",
    "\n",
    "expressions_path = run_expression_set_generation(symbol_objects=so, num_expressions=100, max_tree_depth=7, has_constants=True)\n",
    "\n",
    "s2t = {s[\"symbol\"]: s for s in so}\n",
    "\n",
    "trees = utils.read_expressions_json(expressions_path)"
   ]
  },
  {
   "cell_type": "code",
   "execution_count": 10,
   "metadata": {},
   "outputs": [],
   "source": [
    "#Set Hyper parameters of the HVAE\n",
    "\n",
    "HVAE_hp = {\n",
    "    'expressions': None,\n",
    "    'trainin_path': training_path \n",
    "    'symbols': so,\n",
    "    'input_dim': len(so),\n",
    "    'batch': 32,\n",
    "    'num_vars': n_vars,\n",
    "    'has_const': True,\n",
    "    'latent_size': 128,\n",
    "    'epochs': 20,\n",
    "    'param_path': param_path,\n",
    "    'annealing_iters': 3000,\n",
    "    'verbose': None,\n",
    "    'seed': None\n",
    "} "
   ]
  },
  {
   "cell_type": "code",
   "execution_count": 11,
   "metadata": {},
   "outputs": [],
   "source": [
    "# Create HVAE \n",
    "HVAE_model = model.HVAE(input_size=HVAE_hp['input_dim'], output_size=HVAE_hp['latent_size'])"
   ]
  },
  {
   "cell_type": "code",
   "execution_count": null,
   "metadata": {},
   "outputs": [],
   "source": [
    "# Prepare the HVAE with necessary information\n",
    "HVAE_model.add_symbols(so)\n",
    "\n"
   ]
  },
  {
   "cell_type": "markdown",
   "metadata": {},
   "source": [
    "# HVAE Introduction Script\n",
    "Introduction to how to install and use the Hierarchical Variational Autoencoder (HVAE). The published paper for the work can be found [here](https://arxiv.org/abs/2302.09893) \n",
    "\n",
    "The first step, assuming you have installed python and anaconda already is to install the package.\n",
    "1. get the package from git hub ([github link](https://github.com/smeznar/HVAE/tree/master)) \n",
    "2. follow instructions in ReadMe to install package \n"
   ]
  },
  {
   "cell_type": "markdown",
   "metadata": {},
   "source": [
    "Import scripts from HVAE package.\n",
    "Expression set generation: Place where all the random functions get made. Also where the Grammar is "
   ]
  },
  {
   "cell_type": "markdown",
   "metadata": {},
   "source": [
    "# Start From here "
   ]
  },
  {
   "cell_type": "code",
   "execution_count": 1,
   "metadata": {},
   "outputs": [],
   "source": [
    "# import statements\n",
    "import sys\n",
    "import os\n",
    "sys.path.append('..')\n",
    "sys.path.append('../src')\n",
    "\n",
    "from src.utilsHVAE import *\n",
    "from src.expression_set_generation import *\n",
    "from src.model import HVAE\n",
    "import torch\n"
   ]
  },
  {
   "cell_type": "code",
   "execution_count": null,
   "metadata": {},
   "outputs": [],
   "source": [
    "# Training the HVAE and saving the  "
   ]
  },
  {
   "cell_type": "code",
   "execution_count": 2,
   "metadata": {},
   "outputs": [],
   "source": [
    "# config = load_config_file(\"../configs/test_config.json\")\n",
    "config = load_config_file(\"../configs/ratelaw_config.json\")\n",
    "expr_config = config[\"expression_definition\"]\n",
    "es_config = config[\"expression_set_generation\"]\n",
    "sy_lib = generate_symbol_library(expr_config[\"num_variables\"], expr_config[\"symbols\"], expr_config[\"has_constants\"])\n",
    "# sy_lib = generate_symbol_library(2, expr_config[\"symbols\"], True)\n",
    "so = {s[\"symbol\"]: s for s in sy_lib}\n",
    "HVAE.add_symbols(sy_lib)"
   ]
  },
  {
   "cell_type": "code",
   "execution_count": 3,
   "metadata": {},
   "outputs": [],
   "source": [
    "# create 3 Rate laws and set 1 to primary rate law \n",
    "sim_rate_laws = [\n",
    "    (\"C * A\", \"sim\"),\n",
    "    (\"C * B\", \"sim\"),\n",
    "    (\"C * D\", \"sim\"),\n",
    "    (\"C * A * B\", \"sim\"),\n",
    "    (\"C * A * D\", \"sim\"), \n",
    "    (\"C * A ^2\", \"sim\"),\n",
    "    (\"C * A * A\", \"sim\"),\n",
    "    (\"C * sqrt ( A )\", \"sim\"),\n",
    "    (\"C * A ^2 * B\", \"sim\"),\n",
    "    (\"C * A ^3 / ( D * B )\", \"sim\"),\n",
    "]\n",
    "cplx_rate_laws = [\n",
    "    (\"C * ( A - B / C )\", \"cplx\"),\n",
    "    (\"C * ( A * B - D ^2 / C )\", \"cplx\"),\n",
    "    (\"C * sqrt ( A ^3 )\", \"cplx\"),\n",
    "    (\"C * ( A - B * D / C ) / ( C + C * B + C * A )\", \"cplx\"),\n",
    "    (\"C * A / ( C + A )\", \"cplx\"),\n",
    "    (\"C * A * B / ( C + A )\", \"cplx\"),\n",
    "    (\"C * A * B / ( C + C * A + C * B )\", \"cplx\")\n",
    "]\n",
    "\n",
    "\n",
    "# create 3 random normal equations\n",
    "rnd_eqn = [\n",
    "    (\"A * B\", \"math\"),\n",
    "    (\"A ^2 - A ^3\", \"math\"),\n",
    "    (\"D + C * B ^2 / ( A * B * C )\", \"math\"),\n",
    "    (\"sin ( A ^2 / B ^3 )\", \"math\"),\n",
    "    (\"cos ( A * B )\", \"math\"),\n",
    "    (\"C * A ^2 - C * A + C\", \"math\"),\n",
    "    (\"A * A + A - sqrt ( ( A ) ^2 ) * B\", \"math\"),\n",
    "    (\"D * ( D - D ) * D / A * ( cos ( B ) ) ^2\", \"math\"),\n",
    "    (\"( sin ( A ) ) / D\", \"math\"),\n",
    "    (\"B * C - C / C\", \"math\")\n",
    "]\n",
    "\n",
    "# encode the functions\n",
    "# param_file = \"../params/ng1_7.pt\"\n",
    "param_file = \"../params/rate_trees_7_10k.pt\"\n",
    "model = torch.load(param_file)\n",
    "model.add_symbols(sy_lib)\n",
    "\n",
    "\n",
    "equations = sim_rate_laws + cplx_rate_laws + rnd_eqn\n",
    "\n",
    "token_list = [expr[0].split(\" \") for expr in equations]\n",
    "\n",
    "tree_list = [tokens_to_tree(token,so) for token in token_list]\n",
    "\n",
    "treeB_list = [create_batch([tree]) for tree in tree_list]\n",
    "\n",
    "l_list = [model.encode(treeB) for treeB in treeB_list]\n",
    "\n",
    "decoded = [str(model.decode(l[0])[0]) for l in l_list]\n",
    "\n",
    "\n",
    "# calcualte the distance of all functions from the primary rate law\n",
    "\n",
    "# print results "
   ]
  },
  {
   "cell_type": "code",
   "execution_count": 4,
   "metadata": {},
   "outputs": [
    {
     "name": "stdout",
     "output_type": "stream",
     "text": [
      "Decoded: C*A,\t original: C * A,\t distance 0.000000,\t center equation C * A \n",
      "Decoded: C*B,\t original: C * B,\t distance 2.331299,\t center equation C * A \n",
      "Decoded: C*A*A,\t original: C * A * A,\t distance 2.398986,\t center equation C * A \n",
      "Decoded: C*D,\t original: C * D,\t distance 2.489555,\t center equation C * A \n",
      "Decoded: C*sqrt(A),\t original: C * sqrt ( A ),\t distance 3.022771,\t center equation C * A \n",
      "Decoded: A*B,\t original: A * B,\t distance 3.230598,\t center equation C * A \n",
      "Decoded: C*A*B,\t original: C * A * B,\t distance 3.349409,\t center equation C * A \n",
      "Decoded: C*A*D,\t original: C * A * D,\t distance 3.399984,\t center equation C * A \n",
      "Decoded: C*(A)^2,\t original: C * A ^2,\t distance 3.700633,\t center equation C * A \n",
      "Decoded: C*(A)^2*B,\t original: C * A ^2 * B,\t distance 4.090661,\t center equation C * A \n",
      "Decoded: C*sqrt((A)^3),\t original: C * sqrt ( A ^3 ),\t distance 4.394164,\t center equation C * A \n",
      "Decoded: C*(A-B/D),\t original: C * ( A - B / C ),\t distance 4.434325,\t center equation C * A \n",
      "Decoded: cos(A*B),\t original: cos ( A * B ),\t distance 4.712579,\t center equation C * A \n",
      "Decoded: sin(A)/D,\t original: ( sin ( A ) ) / D,\t distance 4.862467,\t center equation C * A \n",
      "Decoded: C*A/(C+A),\t original: C * A / ( C + A ),\t distance 4.872412,\t center equation C * A \n",
      "Decoded: C*(A)^3/D*B,\t original: C * A ^3 / ( D * B ),\t distance 4.957029,\t center equation C * A \n",
      "Decoded: (A)^2-(A)^3,\t original: A ^2 - A ^3,\t distance 5.114046,\t center equation C * A \n",
      "Decoded: sin((A)^2/(B)^3),\t original: sin ( A ^2 / B ^3 ),\t distance 5.404221,\t center equation C * A \n",
      "Decoded: C*(A*B-(C)^2/C),\t original: C * ( A * B - D ^2 / C ),\t distance 5.469390,\t center equation C * A \n",
      "Decoded: C*A*B/(C+A),\t original: C * A * B / ( C + A ),\t distance 5.663471,\t center equation C * A \n",
      "Decoded: B*C-C/C,\t original: B * C - C / C,\t distance 5.776600,\t center equation C * A \n",
      "Decoded: C*(A)^2-C*A+C,\t original: C * A ^2 - C * A + C,\t distance 5.830587,\t center equation C * A \n",
      "Decoded: D+C*(B)^2/cos(cos(D)*B),\t original: D + C * B ^2 / ( A * B * C ),\t distance 6.663327,\t center equation C * A \n",
      "Decoded: C*A*B/(C+C+C*B),\t original: C * A * B / ( C + C * A + C * B ),\t distance 6.713182,\t center equation C * A \n",
      "Decoded: A*A+A-sqrt((A)^2)*B,\t original: A * A + A - sqrt ( ( A ) ^2 ) * B,\t distance 6.854241,\t center equation C * A \n",
      "Decoded: D*(D-D)*D/A*(cos(B))^2,\t original: D * ( D - D ) * D / A * ( cos ( B ) ) ^2,\t distance 7.043937,\t center equation C * A \n",
      "Decoded: C*(C+B)/(C+C*C*sin(B)),\t original: C * ( A - B * D / C ) / ( C + C * B + C * A ),\t distance 7.607797,\t center equation C * A \n"
     ]
    }
   ],
   "source": [
    "def sort_dict(dict):\n",
    "    keys = list(dict.keys())\n",
    "    values = list(dict.values())\n",
    "    sorted_value_index = np.argsort(values)\n",
    "    sorted_dict = {keys[i]: values[i] for i in sorted_value_index} \n",
    "    return sorted_dict\n",
    "\n",
    "distance = {}\n",
    "central_point = l_list[0][0].detach().numpy()[0,0]\n",
    "for i in range(len(l_list)):\n",
    "    distance[i] = np.linalg.norm(central_point - l_list[i][0].detach().numpy()[0,0])\n",
    "distance = sort_dict(distance)\n",
    "\n",
    "\n",
    "for i in list(distance.keys()):\n",
    "    print(\"Decoded: {},\\t original: {},\\t distance {:f},\\t center equation {} \".format(decoded[i], equations[i][0], distance[i], equations[0][0]))\n",
    "#distance = sorted(distance)\n"
   ]
  },
  {
   "cell_type": "code",
   "execution_count": 6,
   "metadata": {},
   "outputs": [],
   "source": [
    "def expr2tree(expr, so):\n",
    "    token = expr.split(\" \")\n",
    "    tree = tokens_to_tree(token,so)\n",
    "    return tree"
   ]
  },
  {
   "cell_type": "code",
   "execution_count": 1,
   "metadata": {},
   "outputs": [
    {
     "ename": "ModuleNotFoundError",
     "evalue": "No module named 'src'",
     "output_type": "error",
     "traceback": [
      "\u001b[1;31m---------------------------------------------------------------------------\u001b[0m",
      "\u001b[1;31mModuleNotFoundError\u001b[0m                       Traceback (most recent call last)",
      "\u001b[1;32mc:\\Users\\djakobs\\PhD\\LearnD\\HVAE\\Code\\Notebooks\\First_test.ipynb Cell 14\u001b[0m line \u001b[0;36m1\n\u001b[1;32m----> <a href='vscode-notebook-cell:/c%3A/Users/djakobs/PhD/LearnD/HVAE/Code/Notebooks/First_test.ipynb#X16sZmlsZQ%3D%3D?line=0'>1</a>\u001b[0m \u001b[39mimport\u001b[39;00m \u001b[39msrc\u001b[39;00m\u001b[39m.\u001b[39;00m\u001b[39mlinear_interpolation\u001b[39;00m\n\u001b[0;32m      <a href='vscode-notebook-cell:/c%3A/Users/djakobs/PhD/LearnD/HVAE/Code/Notebooks/First_test.ipynb#X16sZmlsZQ%3D%3D?line=2'>3</a>\u001b[0m exprA \u001b[39m=\u001b[39m \u001b[39m\"\u001b[39m\u001b[39mC * A ^2 * B ^3\u001b[39m\u001b[39m\"\u001b[39m\n\u001b[0;32m      <a href='vscode-notebook-cell:/c%3A/Users/djakobs/PhD/LearnD/HVAE/Code/Notebooks/First_test.ipynb#X16sZmlsZQ%3D%3D?line=3'>4</a>\u001b[0m exprB \u001b[39m=\u001b[39m \u001b[39m\"\u001b[39m\u001b[39mC * sin ( A ) - C * D\u001b[39m\u001b[39m\"\u001b[39m\n",
      "\u001b[1;31mModuleNotFoundError\u001b[0m: No module named 'src'"
     ]
    }
   ],
   "source": [
    "import src.linear_interpolation\n",
    "\n",
    "exprA = \"C * A ^2 * B ^3\"\n",
    "exprB = \"C * sin ( A ) - C * D\"\n",
    "\n",
    "\n",
    "src.linear_interpolation.interpolateAB(model, treeA=expr2tree(exprA,so), treeB=expr2tree(exprB,so), steps=100)"
   ]
  },
  {
   "cell_type": "code",
   "execution_count": 8,
   "metadata": {},
   "outputs": [
    {
     "data": {
      "text/plain": [
       "(27, 128)"
      ]
     },
     "execution_count": 8,
     "metadata": {},
     "output_type": "execute_result"
    }
   ],
   "source": [
    "np_array = np.array([l[0][0][0].detach().numpy() for l in l_list])\n",
    "np_array.shape"
   ]
  },
  {
   "cell_type": "code",
   "execution_count": 10,
   "metadata": {},
   "outputs": [
    {
     "name": "stderr",
     "output_type": "stream",
     "text": [
      "c:\\Users\\djakobs\\AppData\\Local\\miniconda3\\envs\\HVAE\\lib\\site-packages\\sklearn\\cluster\\_kmeans.py:1416: FutureWarning: The default value of `n_init` will change from 10 to 'auto' in 1.4. Set the value of `n_init` explicitly to suppress the warning\n",
      "  super()._check_params_vs_input(X, default_n_init=10)\n"
     ]
    },
    {
     "data": {
      "text/plain": [
       "array([2, 2, 2, 2, 2, 2, 2, 2, 2, 1, 2, 2, 2, 0, 0, 0, 0, 2, 2, 2, 2, 2,\n",
       "       1, 1, 1, 2, 1])"
      ]
     },
     "execution_count": 10,
     "metadata": {},
     "output_type": "execute_result"
    }
   ],
   "source": [
    "# also doesn't look terrible. \n",
    "from sklearn.cluster import KMeans, SpectralClustering\n",
    "kmeans = KMeans(n_clusters=3).fit(np_array)\n",
    "kmeans.labels_\n"
   ]
  },
  {
   "cell_type": "code",
   "execution_count": 79,
   "metadata": {},
   "outputs": [
    {
     "name": "stdout",
     "output_type": "stream",
     "text": [
      "[2 2 2 2 2 2 2 2 2 2 1 1 2 3 3 3 3 2 0 1 0 2 2 0 2 2 0]\n",
      "expr C * A ^2 * B ^3 predicted cluster [2]\n",
      "expr C * sin ( A ) - C * D predicted cluster [2]\n"
     ]
    }
   ],
   "source": [
    "print(kmeans.labels_)\n",
    "# model.encode(create_batch([expr2tree(exprA,so)]))[0].detach().numpy()[0][0].shape\n",
    "print(\"expr {} predicted cluster {}\".format(exprA,kmeans.predict(model.encode(create_batch([expr2tree(exprA,so)]))[0].detach().numpy()[0][0].reshape(1,-1))))\n",
    "print(\"expr {} predicted cluster {}\".format(exprB,kmeans.predict(model.encode(create_batch([expr2tree(exprB,so)]))[0].detach().numpy()[0][0].reshape(1,-1)))) "
   ]
  },
  {
   "cell_type": "code",
   "execution_count": 80,
   "metadata": {},
   "outputs": [
    {
     "data": {
      "text/plain": [
       "array([0, 0, 0, 0, 0, 0, 0, 0, 0, 0, 1, 1, 0, 2, 2, 2, 2, 0, 0, 0, 0, 0,\n",
       "       0, 0, 0, 0, 0])"
      ]
     },
     "execution_count": 80,
     "metadata": {},
     "output_type": "execute_result"
    }
   ],
   "source": [
    "spectral = SpectralClustering(n_clusters=3, assign_labels='kmeans').fit(np_array)\n",
    "spectral.labels_"
   ]
  },
  {
   "cell_type": "code",
   "execution_count": 12,
   "metadata": {},
   "outputs": [
    {
     "data": {
      "text/plain": [
       "array([ 0,  0,  0,  0,  0,  0,  0,  0, -1, -1, -1, -1,  0, -1, -1, -1, -1,\n",
       "        0, -1, -1, -1, -1, -1, -1, -1, -1, -1], dtype=int64)"
      ]
     },
     "execution_count": 12,
     "metadata": {},
     "output_type": "execute_result"
    }
   ],
   "source": [
    "# this looks pretty promising \n",
    "\n",
    "from sklearn.cluster import DBSCAN\n",
    "dbscan = DBSCAN(eps=3.2, min_samples=2).fit(np_array)\n",
    "dbscan.labels_\n"
   ]
  },
  {
   "cell_type": "code",
   "execution_count": 13,
   "metadata": {},
   "outputs": [
    {
     "name": "stdout",
     "output_type": "stream",
     "text": [
      "eq C * A  cluster: 0  expect:  sim\n",
      "eq C * B  cluster: 0  expect:  sim\n",
      "eq C * D  cluster: 0  expect:  sim\n",
      "eq C * A * B  cluster: 0  expect:  sim\n",
      "eq C * A * D  cluster: 0  expect:  sim\n",
      "eq C * A ^2  cluster: 0  expect:  sim\n",
      "eq C * A * A  cluster: 0  expect:  sim\n",
      "eq C * sqrt ( A )  cluster: 0  expect:  sim\n",
      "eq C * sqrt ( A ^3 )  cluster: 0  expect:  cplx\n",
      "eq A * B  cluster: 0  expect:  math\n",
      "\n",
      " ------------------------------------------------------------\n",
      "eq C * A ^2 * B  cluster: -1  expect:  sim\n",
      "eq C * A ^3 / ( D * B )  cluster: -1  expect:  sim\n",
      "eq C * ( A - B / C )  cluster: -1  expect:  cplx\n",
      "eq C * ( A * B - D ^2 / C )  cluster: -1  expect:  cplx\n",
      "eq C * ( A - B * D / C ) / ( C + C * B + C * A )  cluster: -1  expect:  cplx\n",
      "eq C * A / ( C + A )  cluster: -1  expect:  cplx\n",
      "eq C * A * B / ( C + A )  cluster: -1  expect:  cplx\n",
      "eq C * A * B / ( C + C * A + C * B )  cluster: -1  expect:  cplx\n",
      "eq A ^2 - A ^3  cluster: -1  expect:  math\n",
      "eq D + C * B ^2 / ( A * B * C )  cluster: -1  expect:  math\n",
      "eq sin ( A ^2 / B ^3 )  cluster: -1  expect:  math\n",
      "eq cos ( A * B )  cluster: -1  expect:  math\n",
      "eq C * A ^2 - C * A + C  cluster: -1  expect:  math\n",
      "eq A * A + A - sqrt ( ( A ) ^2 ) * B  cluster: -1  expect:  math\n",
      "eq D * ( D - D ) * D / A * ( cos ( B ) ) ^2  cluster: -1  expect:  math\n",
      "eq ( sin ( A ) ) / D  cluster: -1  expect:  math\n",
      "eq B * C - C / C  cluster: -1  expect:  math\n",
      "\n",
      " ------------------------------------------------------------\n"
     ]
    }
   ],
   "source": [
    "for i in set(dbscan.labels_.flatten()):\n",
    "    for j in range(len(equations)):\n",
    "        if dbscan.labels_[j] == i:\n",
    "            print(\"eq\" ,equations[j][0], \" cluster:\", dbscan.labels_[j], \" expect: \", equations[j][1])\n",
    "    print(\"\\n ------------------------------------------------------------\")"
   ]
  },
  {
   "cell_type": "code",
   "execution_count": 61,
   "metadata": {},
   "outputs": [
    {
     "name": "stdout",
     "output_type": "stream",
     "text": [
      "eq ('C * A', 1)  cluster: -1\n",
      "eq ('C * B', 1)  cluster: 0\n",
      "eq ('C * D', 1)  cluster: -1\n",
      "eq ('C * A * B', 1)  cluster: -1\n",
      "eq ('C * A * D', 1)  cluster: -1\n",
      "eq ('C * A ^2', 1)  cluster: -1\n",
      "eq ('C * sqrt ( A )', 1)  cluster: -1\n",
      "eq ('C * A ^2 * B', 1)  cluster: -1\n",
      "eq ('C * A ^3 / ( D * B )', 1)  cluster: -1\n",
      "eq ('C * ( A - B / C )', 1)  cluster: -1\n",
      "eq ('C * ( A * B - D ^2 / C )', 1)  cluster: -1\n",
      "eq ('C * sqrt ( A ^3 )', 1)  cluster: -1\n",
      "eq ('C * ( A - B * D / C ) / ( C + C * B + C * A )', 1)  cluster: -1\n",
      "eq ('C * A / ( C + A )', 1)  cluster: -1\n",
      "eq ('C * A * B / ( C + A )', 1)  cluster: -1\n",
      "eq ('C * A * B / ( C + C * A + C * B )', 1)  cluster: -1\n",
      "eq ('A * B', 0)  cluster: 0\n",
      "eq ('A ^2 - A ^3', 0)  cluster: -1\n",
      "eq ('D + C * B ^2 / ( A * B * C )', 0)  cluster: -1\n",
      "eq ('sin ( A ^2 / B ^3 )', 0)  cluster: -1\n",
      "eq ('cos ( A * B )', 0)  cluster: -1\n",
      "eq ('C * A ^2 - C * A + C', 0)  cluster: -1\n",
      "eq ('A * A + A - sqrt ( ( A ) ^2 ) * B', 0)  cluster: -1\n",
      "eq ('D * ( D - D ) * D / A * ( cos ( B ) ) ^2', 0)  cluster: -1\n",
      "eq ('( sin ( A ) ) / D', 0)  cluster: -1\n",
      "eq ('B * C - C / C', 0)  cluster: -1\n"
     ]
    }
   ],
   "source": [
    "for i in range(len(equations)):\n",
    "    print(\"eq\" ,equations[i], \" cluster:\", dbscan.labels_[i])\n"
   ]
  },
  {
   "cell_type": "code",
   "execution_count": 237,
   "metadata": {},
   "outputs": [
    {
     "name": "stdout",
     "output_type": "stream",
     "text": [
      "[1]\n",
      "[1]\n"
     ]
    }
   ],
   "source": [
    "# model.encode(create_batch([expr2tree(exprA,so)]))[0].detach().numpy()[0][0].shape\n",
    "print(kmeans.predict(model.encode(create_batch([expr2tree(exprA,so)]))[0].detach().numpy()[0][0].reshape(1,-1)))\n",
    "print(kmeans.predict(model.encode(create_batch([expr2tree(exprB,so)]))[0].detach().numpy()[0][0].reshape(1,-1)))"
   ]
  },
  {
   "cell_type": "markdown",
   "metadata": {},
   "source": [
    "# Results to Show Gonzalo\n"
   ]
  },
  {
   "cell_type": "code",
   "execution_count": 14,
   "metadata": {},
   "outputs": [
    {
     "name": "stdout",
     "output_type": "stream",
     "text": [
      "Search distance 2.2, Min Cluster size: 2 \n",
      " -------------------------------------------------\n",
      "eq C * B  cluster: 0  expect:  sim\n",
      "eq A * B  cluster: 0  expect:  math\n",
      "\n",
      " ------------------------------------------------------------\n",
      "eq C * A  cluster: -1  expect:  sim\n",
      "eq C * D  cluster: -1  expect:  sim\n",
      "eq C * A * B  cluster: -1  expect:  sim\n",
      "eq C * A * D  cluster: -1  expect:  sim\n",
      "eq C * A ^2  cluster: -1  expect:  sim\n",
      "eq C * A * A  cluster: -1  expect:  sim\n",
      "eq C * sqrt ( A )  cluster: -1  expect:  sim\n",
      "eq C * A ^2 * B  cluster: -1  expect:  sim\n",
      "eq C * A ^3 / ( D * B )  cluster: -1  expect:  sim\n",
      "eq C * ( A - B / C )  cluster: -1  expect:  cplx\n",
      "eq C * ( A * B - D ^2 / C )  cluster: -1  expect:  cplx\n",
      "eq C * sqrt ( A ^3 )  cluster: -1  expect:  cplx\n",
      "eq C * ( A - B * D / C ) / ( C + C * B + C * A )  cluster: -1  expect:  cplx\n",
      "eq C * A / ( C + A )  cluster: -1  expect:  cplx\n",
      "eq C * A * B / ( C + A )  cluster: -1  expect:  cplx\n",
      "eq C * A * B / ( C + C * A + C * B )  cluster: -1  expect:  cplx\n",
      "eq A ^2 - A ^3  cluster: -1  expect:  math\n",
      "eq D + C * B ^2 / ( A * B * C )  cluster: -1  expect:  math\n",
      "eq sin ( A ^2 / B ^3 )  cluster: -1  expect:  math\n",
      "eq cos ( A * B )  cluster: -1  expect:  math\n",
      "eq C * A ^2 - C * A + C  cluster: -1  expect:  math\n",
      "eq A * A + A - sqrt ( ( A ) ^2 ) * B  cluster: -1  expect:  math\n",
      "eq D * ( D - D ) * D / A * ( cos ( B ) ) ^2  cluster: -1  expect:  math\n",
      "eq ( sin ( A ) ) / D  cluster: -1  expect:  math\n",
      "eq B * C - C / C  cluster: -1  expect:  math\n",
      "\n",
      " ------------------------------------------------------------\n"
     ]
    }
   ],
   "source": [
    "eps_val = 2.2 \n",
    "n_samp = 2\n",
    "\n",
    "from sklearn.cluster import DBSCAN\n",
    "dbscan = DBSCAN(eps=eps_val, min_samples=n_samp).fit(np_array)\n",
    "print(\"Search distance {}, Min Cluster size: {} \\n -------------------------------------------------\".format(eps_val, n_samp))\n",
    "\n",
    "for i in set(dbscan.labels_.flatten()):\n",
    "    for j in range(len(equations)):\n",
    "        if dbscan.labels_[j] == i:\n",
    "            print(\"eq\" ,equations[j][0], \" cluster:\", dbscan.labels_[j], \" expect: \", equations[j][1])\n",
    "    print(\"\\n ------------------------------------------------------------\")\n"
   ]
  },
  {
   "cell_type": "code",
   "execution_count": 15,
   "metadata": {},
   "outputs": [
    {
     "name": "stdout",
     "output_type": "stream",
     "text": [
      "Search distance 2.5, Min Cluster size: 2 \n",
      " -------------------------------------------------\n",
      "eq C * A  cluster: 0  expect:  sim\n",
      "eq C * B  cluster: 0  expect:  sim\n",
      "eq C * D  cluster: 0  expect:  sim\n",
      "eq C * A * B  cluster: 0  expect:  sim\n",
      "eq C * A * D  cluster: 0  expect:  sim\n",
      "eq C * A * A  cluster: 0  expect:  sim\n",
      "eq A * B  cluster: 0  expect:  math\n",
      "\n",
      " ------------------------------------------------------------\n",
      "eq C * A ^2  cluster: -1  expect:  sim\n",
      "eq C * sqrt ( A )  cluster: -1  expect:  sim\n",
      "eq C * A ^2 * B  cluster: -1  expect:  sim\n",
      "eq C * A ^3 / ( D * B )  cluster: -1  expect:  sim\n",
      "eq C * ( A - B / C )  cluster: -1  expect:  cplx\n",
      "eq C * ( A * B - D ^2 / C )  cluster: -1  expect:  cplx\n",
      "eq C * sqrt ( A ^3 )  cluster: -1  expect:  cplx\n",
      "eq C * ( A - B * D / C ) / ( C + C * B + C * A )  cluster: -1  expect:  cplx\n",
      "eq C * A / ( C + A )  cluster: -1  expect:  cplx\n",
      "eq C * A * B / ( C + A )  cluster: -1  expect:  cplx\n",
      "eq C * A * B / ( C + C * A + C * B )  cluster: -1  expect:  cplx\n",
      "eq A ^2 - A ^3  cluster: -1  expect:  math\n",
      "eq D + C * B ^2 / ( A * B * C )  cluster: -1  expect:  math\n",
      "eq sin ( A ^2 / B ^3 )  cluster: -1  expect:  math\n",
      "eq cos ( A * B )  cluster: -1  expect:  math\n",
      "eq C * A ^2 - C * A + C  cluster: -1  expect:  math\n",
      "eq A * A + A - sqrt ( ( A ) ^2 ) * B  cluster: -1  expect:  math\n",
      "eq D * ( D - D ) * D / A * ( cos ( B ) ) ^2  cluster: -1  expect:  math\n",
      "eq ( sin ( A ) ) / D  cluster: -1  expect:  math\n",
      "eq B * C - C / C  cluster: -1  expect:  math\n",
      "\n",
      " ------------------------------------------------------------\n"
     ]
    }
   ],
   "source": [
    "eps_val = 2.5 \n",
    "n_samp = 2\n",
    "\n",
    "from sklearn.cluster import DBSCAN\n",
    "dbscan = DBSCAN(eps=eps_val, min_samples=n_samp).fit(np_array)\n",
    "print(\"Search distance {}, Min Cluster size: {} \\n -------------------------------------------------\".format(eps_val, n_samp))\n",
    "\n",
    "for i in set(dbscan.labels_.flatten()):\n",
    "    for j in range(len(equations)):\n",
    "        if dbscan.labels_[j] == i:\n",
    "            print(\"eq\" ,equations[j][0], \" cluster:\", dbscan.labels_[j], \" expect: \", equations[j][1])\n",
    "    print(\"\\n ------------------------------------------------------------\")\n",
    "\n",
    "# Notice that C * A * A is considered in the cluster and C * A ^2 is not\n"
   ]
  },
  {
   "cell_type": "code",
   "execution_count": 16,
   "metadata": {},
   "outputs": [
    {
     "name": "stdout",
     "output_type": "stream",
     "text": [
      "Search distance 3.2, Min Cluster size: 2 \n",
      " -------------------------------------------------\n",
      "eq C * A  cluster: 0  expect:  sim\n",
      "eq C * B  cluster: 0  expect:  sim\n",
      "eq C * D  cluster: 0  expect:  sim\n",
      "eq C * A * B  cluster: 0  expect:  sim\n",
      "eq C * A * D  cluster: 0  expect:  sim\n",
      "eq C * A ^2  cluster: 0  expect:  sim\n",
      "eq C * A * A  cluster: 0  expect:  sim\n",
      "eq C * sqrt ( A )  cluster: 0  expect:  sim\n",
      "eq C * sqrt ( A ^3 )  cluster: 0  expect:  cplx\n",
      "eq A * B  cluster: 0  expect:  math\n",
      "\n",
      " ------------------------------------------------------------\n",
      "eq C * A ^2 * B  cluster: -1  expect:  sim\n",
      "eq C * A ^3 / ( D * B )  cluster: -1  expect:  sim\n",
      "eq C * ( A - B / C )  cluster: -1  expect:  cplx\n",
      "eq C * ( A * B - D ^2 / C )  cluster: -1  expect:  cplx\n",
      "eq C * ( A - B * D / C ) / ( C + C * B + C * A )  cluster: -1  expect:  cplx\n",
      "eq C * A / ( C + A )  cluster: -1  expect:  cplx\n",
      "eq C * A * B / ( C + A )  cluster: -1  expect:  cplx\n",
      "eq C * A * B / ( C + C * A + C * B )  cluster: -1  expect:  cplx\n",
      "eq A ^2 - A ^3  cluster: -1  expect:  math\n",
      "eq D + C * B ^2 / ( A * B * C )  cluster: -1  expect:  math\n",
      "eq sin ( A ^2 / B ^3 )  cluster: -1  expect:  math\n",
      "eq cos ( A * B )  cluster: -1  expect:  math\n",
      "eq C * A ^2 - C * A + C  cluster: -1  expect:  math\n",
      "eq A * A + A - sqrt ( ( A ) ^2 ) * B  cluster: -1  expect:  math\n",
      "eq D * ( D - D ) * D / A * ( cos ( B ) ) ^2  cluster: -1  expect:  math\n",
      "eq ( sin ( A ) ) / D  cluster: -1  expect:  math\n",
      "eq B * C - C / C  cluster: -1  expect:  math\n",
      "\n",
      " ------------------------------------------------------------\n"
     ]
    }
   ],
   "source": [
    "eps_val = 3.2 \n",
    "n_samp = 2\n",
    "\n",
    "from sklearn.cluster import DBSCAN\n",
    "dbscan = DBSCAN(eps=eps_val, min_samples=n_samp).fit(np_array)\n",
    "print(\"Search distance {}, Min Cluster size: {} \\n -------------------------------------------------\".format(eps_val, n_samp))\n",
    "\n",
    "for i in set(dbscan.labels_.flatten()):\n",
    "    for j in range(len(equations)):\n",
    "        if dbscan.labels_[j] == i:\n",
    "            print(\"eq\" ,equations[j][0], \" cluster:\", dbscan.labels_[j], \" expect: \", equations[j][1])\n",
    "    print(\"\\n ------------------------------------------------------------\")\n",
    "\n",
    "# Notice how it is not including multi term rate laws"
   ]
  },
  {
   "cell_type": "code",
   "execution_count": 30,
   "metadata": {},
   "outputs": [
    {
     "name": "stdout",
     "output_type": "stream",
     "text": [
      "Search distance 3.7, Min Cluster size: 2 \n",
      " -------------------------------------------------\n",
      "eq C * A  cluster: 0  expect: sim\n",
      "eq C * B  cluster: 0  expect: sim\n",
      "eq C * D  cluster: 0  expect: sim\n",
      "eq C * A * B  cluster: 0  expect: sim\n",
      "eq C * A * D  cluster: 0  expect: sim\n",
      "eq C * A ^2  cluster: 0  expect: sim\n",
      "eq C * A * A  cluster: 0  expect: sim\n",
      "eq C * sqrt ( A )  cluster: 0  expect: sim\n",
      "eq C * A ^2 * B  cluster: 0  expect: sim\n",
      "eq C * A ^3 / ( D * B )  cluster: 0  expect: sim\n",
      "eq C * sqrt ( A ^3 )  cluster: 0  expect: cplx\n",
      "eq A * B  cluster: 0  expect: math\n",
      "\n",
      " ------------------------------------------------------------\n",
      "eq C * ( A - B / C )  cluster: 1  expect: cplx\n",
      "eq C * ( A * B - D ^2 / C )  cluster: 1  expect: cplx\n",
      "\n",
      " ------------------------------------------------------------\n",
      "eq C * A / ( C + A )  cluster: 2  expect: cplx\n",
      "eq C * A * B / ( C + A )  cluster: 2  expect: cplx\n",
      "\n",
      " ------------------------------------------------------------\n",
      "eq C * ( A - B * D / C ) / ( C + C * B + C * A )  cluster: -1  expect: cplx\n",
      "eq C * A * B / ( C + C * A + C * B )  cluster: -1  expect: cplx\n",
      "eq A ^2 - A ^3  cluster: -1  expect: math\n",
      "eq D + C * B ^2 / ( A * B * C )  cluster: -1  expect: math\n",
      "eq sin ( A ^2 / B ^3 )  cluster: -1  expect: math\n",
      "eq cos ( A * B )  cluster: -1  expect: math\n",
      "eq C * A ^2 - C * A + C  cluster: -1  expect: math\n",
      "eq A * A + A - sqrt ( ( A ) ^2 ) * B  cluster: -1  expect: math\n",
      "eq D * ( D - D ) * D / A * ( cos ( B ) ) ^2  cluster: -1  expect: math\n",
      "eq ( sin ( A ) ) / D  cluster: -1  expect: math\n",
      "eq B * C - C / C  cluster: -1  expect: math\n",
      "\n",
      " ------------------------------------------------------------\n"
     ]
    }
   ],
   "source": [
    "eps_val = 3.7 \n",
    "n_samp = 2\n",
    "\n",
    "from sklearn.cluster import DBSCAN\n",
    "dbscan = DBSCAN(eps=eps_val, min_samples=n_samp).fit(np_array)\n",
    "print(\"Search distance {}, Min Cluster size: {} \\n -------------------------------------------------\".format(eps_val, n_samp))\n",
    "\n",
    "for i in set(dbscan.labels_.flatten()):\n",
    "    for j in range(len(equations)):\n",
    "        if dbscan.labels_[j] == i:\n",
    "            # print(\"eq\" ,equations[j][0], \" expect:\", equations[j][1])\n",
    "            print(\"eq\" ,equations[j][0], \" cluster:\", dbscan.labels_[j], \" expect:\", equations[j][1])\n",
    "    print(\"\\n ------------------------------------------------------------\")\n",
    "\n",
    "# Notice how it is not including multi term rate laws"
   ]
  },
  {
   "cell_type": "code",
   "execution_count": 17,
   "metadata": {},
   "outputs": [
    {
     "name": "stdout",
     "output_type": "stream",
     "text": [
      "Search distance 4, Min Cluster size: 2 \n",
      " -------------------------------------------------\n",
      "eq C * A  cluster: 0  expect:  sim\n",
      "eq C * B  cluster: 0  expect:  sim\n",
      "eq C * D  cluster: 0  expect:  sim\n",
      "eq C * A * B  cluster: 0  expect:  sim\n",
      "eq C * A * D  cluster: 0  expect:  sim\n",
      "eq C * A ^2  cluster: 0  expect:  sim\n",
      "eq C * A * A  cluster: 0  expect:  sim\n",
      "eq C * sqrt ( A )  cluster: 0  expect:  sim\n",
      "eq C * A ^2 * B  cluster: 0  expect:  sim\n",
      "eq C * A ^3 / ( D * B )  cluster: 0  expect:  sim\n",
      "eq C * sqrt ( A ^3 )  cluster: 0  expect:  cplx\n",
      "eq A * B  cluster: 0  expect:  math\n",
      "eq ( sin ( A ) ) / D  cluster: 0  expect:  math\n",
      "\n",
      " ------------------------------------------------------------\n",
      "eq C * ( A - B / C )  cluster: 1  expect:  cplx\n",
      "eq C * ( A * B - D ^2 / C )  cluster: 1  expect:  cplx\n",
      "\n",
      " ------------------------------------------------------------\n",
      "eq C * A / ( C + A )  cluster: 2  expect:  cplx\n",
      "eq C * A * B / ( C + A )  cluster: 2  expect:  cplx\n",
      "\n",
      " ------------------------------------------------------------\n",
      "eq C * ( A - B * D / C ) / ( C + C * B + C * A )  cluster: -1  expect:  cplx\n",
      "eq C * A * B / ( C + C * A + C * B )  cluster: -1  expect:  cplx\n",
      "eq A ^2 - A ^3  cluster: -1  expect:  math\n",
      "eq D + C * B ^2 / ( A * B * C )  cluster: -1  expect:  math\n",
      "eq sin ( A ^2 / B ^3 )  cluster: -1  expect:  math\n",
      "eq cos ( A * B )  cluster: -1  expect:  math\n",
      "eq C * A ^2 - C * A + C  cluster: -1  expect:  math\n",
      "eq A * A + A - sqrt ( ( A ) ^2 ) * B  cluster: -1  expect:  math\n",
      "eq D * ( D - D ) * D / A * ( cos ( B ) ) ^2  cluster: -1  expect:  math\n",
      "eq B * C - C / C  cluster: -1  expect:  math\n",
      "\n",
      " ------------------------------------------------------------\n"
     ]
    }
   ],
   "source": [
    "eps_val = 4 \n",
    "n_samp = 2\n",
    "\n",
    "from sklearn.cluster import DBSCAN\n",
    "dbscan = DBSCAN(eps=eps_val, min_samples=n_samp).fit(np_array)\n",
    "print(\"Search distance {}, Min Cluster size: {} \\n -------------------------------------------------\".format(eps_val, n_samp))\n",
    "\n",
    "for i in set(dbscan.labels_.flatten()):\n",
    "    for j in range(len(equations)):\n",
    "        if dbscan.labels_[j] == i:\n",
    "            print(\"eq\" ,equations[j][0], \" cluster:\", dbscan.labels_[j], \" expect: \", equations[j][1])\n",
    "    print(\"\\n ------------------------------------------------------------\")\n",
    "\n",
    "# Multiple Clusters. Again seeing what they are clustering closely based on how the functions look...\n",
    "# But also now one Math function in cluster with Trig, which is clearly not what we want. \n",
    "# Goes against what I would have expected, because I would have thought that the Trig functions are far away from everything else.  "
   ]
  },
  {
   "cell_type": "code",
   "execution_count": 18,
   "metadata": {},
   "outputs": [
    {
     "name": "stdout",
     "output_type": "stream",
     "text": [
      "Search distance 4.08, Min Cluster size: 2 \n",
      " -------------------------------------------------\n",
      "eq C * A  cluster: 0  expect:  sim\n",
      "eq C * B  cluster: 0  expect:  sim\n",
      "eq C * D  cluster: 0  expect:  sim\n",
      "eq C * A * B  cluster: 0  expect:  sim\n",
      "eq C * A * D  cluster: 0  expect:  sim\n",
      "eq C * A ^2  cluster: 0  expect:  sim\n",
      "eq C * A * A  cluster: 0  expect:  sim\n",
      "eq C * sqrt ( A )  cluster: 0  expect:  sim\n",
      "eq C * A ^2 * B  cluster: 0  expect:  sim\n",
      "eq C * A ^3 / ( D * B )  cluster: 0  expect:  sim\n",
      "eq C * sqrt ( A ^3 )  cluster: 0  expect:  cplx\n",
      "eq C * A / ( C + A )  cluster: 0  expect:  cplx\n",
      "eq C * A * B / ( C + A )  cluster: 0  expect:  cplx\n",
      "eq A * B  cluster: 0  expect:  math\n",
      "eq cos ( A * B )  cluster: 0  expect:  math\n",
      "eq ( sin ( A ) ) / D  cluster: 0  expect:  math\n",
      "\n",
      " ------------------------------------------------------------\n",
      "eq C * ( A - B / C )  cluster: 1  expect:  cplx\n",
      "eq C * ( A * B - D ^2 / C )  cluster: 1  expect:  cplx\n",
      "\n",
      " ------------------------------------------------------------\n",
      "eq C * ( A - B * D / C ) / ( C + C * B + C * A )  cluster: -1  expect:  cplx\n",
      "eq C * A * B / ( C + C * A + C * B )  cluster: -1  expect:  cplx\n",
      "eq A ^2 - A ^3  cluster: -1  expect:  math\n",
      "eq D + C * B ^2 / ( A * B * C )  cluster: -1  expect:  math\n",
      "eq sin ( A ^2 / B ^3 )  cluster: -1  expect:  math\n",
      "eq C * A ^2 - C * A + C  cluster: -1  expect:  math\n",
      "eq A * A + A - sqrt ( ( A ) ^2 ) * B  cluster: -1  expect:  math\n",
      "eq D * ( D - D ) * D / A * ( cos ( B ) ) ^2  cluster: -1  expect:  math\n",
      "eq B * C - C / C  cluster: -1  expect:  math\n",
      "\n",
      " ------------------------------------------------------------\n"
     ]
    }
   ],
   "source": [
    "eps_val = 4.08 \n",
    "n_samp = 2\n",
    "\n",
    "from sklearn.cluster import DBSCAN\n",
    "dbscan = DBSCAN(eps=eps_val, min_samples=n_samp).fit(np_array)\n",
    "print(\"Search distance {}, Min Cluster size: {} \\n -------------------------------------------------\".format(eps_val, n_samp))\n",
    "\n",
    "for i in set(dbscan.labels_.flatten()):\n",
    "    for j in range(len(equations)):\n",
    "        if dbscan.labels_[j] == i:\n",
    "            print(\"eq\" ,equations[j][0], \" cluster:\", dbscan.labels_[j], \" expect: \", equations[j][1])\n",
    "    print(\"\\n ------------------------------------------------------------\")\n",
    "\n",
    "# Multiple Clusters. / (C + A) pulled into main cluster\n",
    "# more Trig functions in main cluster"
   ]
  },
  {
   "cell_type": "code",
   "execution_count": 19,
   "metadata": {},
   "outputs": [
    {
     "name": "stdout",
     "output_type": "stream",
     "text": [
      "Search distance 4.4, Min Cluster size: 2 \n",
      " -------------------------------------------------\n",
      "eq C * A  cluster: 0  expect:  sim\n",
      "eq C * B  cluster: 0  expect:  sim\n",
      "eq C * D  cluster: 0  expect:  sim\n",
      "eq C * A * B  cluster: 0  expect:  sim\n",
      "eq C * A * D  cluster: 0  expect:  sim\n",
      "eq C * A ^2  cluster: 0  expect:  sim\n",
      "eq C * A * A  cluster: 0  expect:  sim\n",
      "eq C * sqrt ( A )  cluster: 0  expect:  sim\n",
      "eq C * A ^2 * B  cluster: 0  expect:  sim\n",
      "eq C * A ^3 / ( D * B )  cluster: 0  expect:  sim\n",
      "eq C * ( A - B / C )  cluster: 0  expect:  cplx\n",
      "eq C * ( A * B - D ^2 / C )  cluster: 0  expect:  cplx\n",
      "eq C * sqrt ( A ^3 )  cluster: 0  expect:  cplx\n",
      "eq C * A / ( C + A )  cluster: 0  expect:  cplx\n",
      "eq C * A * B / ( C + A )  cluster: 0  expect:  cplx\n",
      "eq C * A * B / ( C + C * A + C * B )  cluster: 0  expect:  cplx\n",
      "eq A * B  cluster: 0  expect:  math\n",
      "eq cos ( A * B )  cluster: 0  expect:  math\n",
      "eq ( sin ( A ) ) / D  cluster: 0  expect:  math\n",
      "\n",
      " ------------------------------------------------------------\n",
      "eq C * ( A - B * D / C ) / ( C + C * B + C * A )  cluster: -1  expect:  cplx\n",
      "eq A ^2 - A ^3  cluster: -1  expect:  math\n",
      "eq D + C * B ^2 / ( A * B * C )  cluster: -1  expect:  math\n",
      "eq sin ( A ^2 / B ^3 )  cluster: -1  expect:  math\n",
      "eq C * A ^2 - C * A + C  cluster: -1  expect:  math\n",
      "eq A * A + A - sqrt ( ( A ) ^2 ) * B  cluster: -1  expect:  math\n",
      "eq D * ( D - D ) * D / A * ( cos ( B ) ) ^2  cluster: -1  expect:  math\n",
      "eq B * C - C / C  cluster: -1  expect:  math\n",
      "\n",
      " ------------------------------------------------------------\n"
     ]
    }
   ],
   "source": [
    "eps_val = 4.4\n",
    "n_samp = 2\n",
    "\n",
    "from sklearn.cluster import DBSCAN\n",
    "dbscan = DBSCAN(eps=eps_val, min_samples=n_samp).fit(np_array)\n",
    "print(\"Search distance {}, Min Cluster size: {} \\n -------------------------------------------------\".format(eps_val, n_samp))\n",
    "\n",
    "for i in set(dbscan.labels_.flatten()):\n",
    "    for j in range(len(equations)):\n",
    "        if dbscan.labels_[j] == i:\n",
    "            print(\"eq\" ,equations[j][0], \" cluster:\", dbscan.labels_[j], \" expect: \", equations[j][1])\n",
    "    print(\"\\n ------------------------------------------------------------\")\n",
    "\n",
    "# Everything Clustered excepting the one very different rate law "
   ]
  },
  {
   "cell_type": "markdown",
   "metadata": {},
   "source": [
    "Final Rate Equation which does not want to be clustered \n",
    "$$ -r_A = k \\frac{A-B*\\frac{D}{K_A}}{1 + K_A *A + K_B * B}$$"
   ]
  },
  {
   "cell_type": "code",
   "execution_count": 21,
   "metadata": {},
   "outputs": [
    {
     "name": "stdout",
     "output_type": "stream",
     "text": [
      "Search distance 5.8, Min Cluster size: 2 \n",
      " -------------------------------------------------\n",
      "eq C * A  cluster: 0  expect:  sim\n",
      "eq C * B  cluster: 0  expect:  sim\n",
      "eq C * D  cluster: 0  expect:  sim\n",
      "eq C * A * B  cluster: 0  expect:  sim\n",
      "eq C * A * D  cluster: 0  expect:  sim\n",
      "eq C * A ^2  cluster: 0  expect:  sim\n",
      "eq C * A * A  cluster: 0  expect:  sim\n",
      "eq C * sqrt ( A )  cluster: 0  expect:  sim\n",
      "eq C * A ^2 * B  cluster: 0  expect:  sim\n",
      "eq C * A ^3 / ( D * B )  cluster: 0  expect:  sim\n",
      "eq C * ( A - B / C )  cluster: 0  expect:  cplx\n",
      "eq C * ( A * B - D ^2 / C )  cluster: 0  expect:  cplx\n",
      "eq C * sqrt ( A ^3 )  cluster: 0  expect:  cplx\n",
      "eq C * ( A - B * D / C ) / ( C + C * B + C * A )  cluster: 0  expect:  cplx\n",
      "eq C * A / ( C + A )  cluster: 0  expect:  cplx\n",
      "eq C * A * B / ( C + A )  cluster: 0  expect:  cplx\n",
      "eq C * A * B / ( C + C * A + C * B )  cluster: 0  expect:  cplx\n",
      "eq A * B  cluster: 0  expect:  math\n",
      "eq A ^2 - A ^3  cluster: 0  expect:  math\n",
      "eq sin ( A ^2 / B ^3 )  cluster: 0  expect:  math\n",
      "eq cos ( A * B )  cluster: 0  expect:  math\n",
      "eq C * A ^2 - C * A + C  cluster: 0  expect:  math\n",
      "eq A * A + A - sqrt ( ( A ) ^2 ) * B  cluster: 0  expect:  math\n",
      "eq ( sin ( A ) ) / D  cluster: 0  expect:  math\n",
      "eq B * C - C / C  cluster: 0  expect:  math\n",
      "\n",
      " ------------------------------------------------------------\n",
      "eq D + C * B ^2 / ( A * B * C )  cluster: -1  expect:  math\n",
      "eq D * ( D - D ) * D / A * ( cos ( B ) ) ^2  cluster: -1  expect:  math\n",
      "\n",
      " ------------------------------------------------------------\n"
     ]
    }
   ],
   "source": [
    "eps_val = 5.8\n",
    "n_samp = 2\n",
    "\n",
    "from sklearn.cluster import DBSCAN\n",
    "dbscan = DBSCAN(eps=eps_val, min_samples=n_samp).fit(np_array)\n",
    "print(\"Search distance {}, Min Cluster size: {} \\n -------------------------------------------------\".format(eps_val, n_samp))\n",
    "\n",
    "for i in set(dbscan.labels_.flatten()):\n",
    "    for j in range(len(equations)):\n",
    "        if dbscan.labels_[j] == i:\n",
    "            print(\"eq\" ,equations[j][0], \" cluster:\", dbscan.labels_[j], \" expect: \", equations[j][1])\n",
    "    print(\"\\n ------------------------------------------------------------\")\n",
    "\n",
    "# Everything Clustered excepting the one very different rate law "
   ]
  },
  {
   "cell_type": "markdown",
   "metadata": {},
   "source": [
    "That the final complex rate law equation gets pulled in very late does not necessarily mean that it is close to the random math equations, rather it could also mean that it is equally far in a different direction. Maybe with more points similar to it, the bridge could be gapped with a shorter cluster search distance  "
   ]
  },
  {
   "cell_type": "markdown",
   "metadata": {},
   "source": [
    "# Trying out really wild Stuff"
   ]
  }
 ],
 "metadata": {
  "kernelspec": {
   "display_name": "HVAE",
   "language": "python",
   "name": "python3"
  },
  "language_info": {
   "codemirror_mode": {
    "name": "ipython",
    "version": 3
   },
   "file_extension": ".py",
   "mimetype": "text/x-python",
   "name": "python",
   "nbconvert_exporter": "python",
   "pygments_lexer": "ipython3",
   "version": "3.10.12"
  },
  "orig_nbformat": 4
 },
 "nbformat": 4,
 "nbformat_minor": 2
}
