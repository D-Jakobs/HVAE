{
 "cells": [
  {
   "cell_type": "code",
   "execution_count": 4,
   "metadata": {},
   "outputs": [],
   "source": [
    "# Python Import Statements\n",
    "\n",
    "import os \n",
    "import sys\n",
    "sys.path.append('..')\n",
    "from src import *\n",
    "from src.expression_set_generation import run_expression_set_generation"
   ]
  },
  {
   "cell_type": "code",
   "execution_count": 7,
   "metadata": {},
   "outputs": [],
   "source": [
    "# User inputs \n",
    "\n",
    "\n",
    "# Select what symbols are to be used \n",
    "# Currently availible symbols \n",
    "# +, -, *, /, ^, sqrt, sin, cos, exp, log, ^2, ^3, ^4, ^5\n",
    "\n",
    "symbols = [\"+\", \"-\", \"*\", \"/\", \"^\"]\n",
    "\n",
    "# number of variables in the expressions\n",
    "n_vars = 1\n",
    "\n",
    "# Training data set\n",
    "training_path = '..\\data\\expressions_4_2k.txt'\n",
    "\n",
    "# Use pretrained model\n",
    "param_path = ''\n",
    "\n"
   ]
  },
  {
   "cell_type": "code",
   "execution_count": null,
   "metadata": {},
   "outputs": [],
   "source": [
    "# Manage user inputs and create necessary \n",
    "so = symbol_library.generate_symbol_library(n_vars, symbols, has_constant=True)\n",
    "\n",
    "expressions_path = run_expression_set_generation(symbol_objects=so, num_expressions=100, max_tree_depth=7, has_constants=True)\n",
    "\n",
    "s2t = {s[\"symbol\"]: s for s in so}\n",
    "\n",
    "trees = utils.read_expressions_json(expressions_path)"
   ]
  },
  {
   "cell_type": "code",
   "execution_count": 10,
   "metadata": {},
   "outputs": [],
   "source": [
    "#Set Hyper parameters of the HVAE\n",
    "\n",
    "HVAE_hp = {\n",
    "    'expressions': None,\n",
    "    'trainin_path': training_path \n",
    "    'symbols': so,\n",
    "    'input_dim': len(so),\n",
    "    'batch': 32,\n",
    "    'num_vars': n_vars,\n",
    "    'has_const': True,\n",
    "    'latent_size': 128,\n",
    "    'epochs': 20,\n",
    "    'param_path': param_path,\n",
    "    'annealing_iters': 3000,\n",
    "    'verbose': None,\n",
    "    'seed': None\n",
    "} "
   ]
  },
  {
   "cell_type": "code",
   "execution_count": 11,
   "metadata": {},
   "outputs": [],
   "source": [
    "# Create HVAE \n",
    "HVAE_model = model.HVAE(input_size=HVAE_hp['input_dim'], output_size=HVAE_hp['latent_size'])"
   ]
  },
  {
   "cell_type": "code",
   "execution_count": null,
   "metadata": {},
   "outputs": [],
   "source": [
    "# Prepare the HVAE with necessary information\n",
    "HVAE_model.add_symbols(so)\n",
    "\n"
   ]
  },
  {
   "cell_type": "code",
   "execution_count": null,
   "metadata": {},
   "outputs": [],
   "source": [
    "# Training the HVAE and saving the  "
   ]
  }
 ],
 "metadata": {
  "kernelspec": {
   "display_name": "HVAE",
   "language": "python",
   "name": "python3"
  },
  "language_info": {
   "codemirror_mode": {
    "name": "ipython",
    "version": 3
   },
   "file_extension": ".py",
   "mimetype": "text/x-python",
   "name": "python",
   "nbconvert_exporter": "python",
   "pygments_lexer": "ipython3",
   "version": "3.10.12"
  },
  "orig_nbformat": 4
 },
 "nbformat": 4,
 "nbformat_minor": 2
}
